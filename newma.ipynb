{
 "cells": [
  {
   "cell_type": "code",
   "execution_count": 1,
   "metadata": {},
   "outputs": [],
   "source": [
    "import numpy as np\n",
    "\n",
    "import onlinecp.algos as algos\n",
    "import onlinecp.utils.evaluation as ev\n",
    "import onlinecp.utils.feature_functions as feat\n",
    "import onlinecp.utils.gendata as gd"
   ]
  },
  {
   "cell_type": "code",
   "execution_count": 7,
   "metadata": {},
   "outputs": [],
   "source": [
    "import sklearn "
   ]
  },
  {
   "cell_type": "code",
   "execution_count": 46,
   "metadata": {},
   "outputs": [],
   "source": [
    "t = np.load('tyler.npz')"
   ]
  },
  {
   "cell_type": "code",
   "execution_count": 47,
   "metadata": {},
   "outputs": [
    {
     "data": {
      "text/plain": [
       "{'_files': ['detection_stat.npy',\n",
       "  'online_th.npy',\n",
       "  'ground_truth.npy',\n",
       "  'EDD.npy',\n",
       "  'FA.npy',\n",
       "  'ND.npy',\n",
       "  'EDDth.npy',\n",
       "  'FAth.npy',\n",
       "  'NDth.npy'],\n",
       " 'files': ['detection_stat',\n",
       "  'online_th',\n",
       "  'ground_truth',\n",
       "  'EDD',\n",
       "  'FA',\n",
       "  'ND',\n",
       "  'EDDth',\n",
       "  'FAth',\n",
       "  'NDth'],\n",
       " 'allow_pickle': False,\n",
       " 'pickle_kwargs': {'encoding': 'ASCII', 'fix_imports': True},\n",
       " 'zip': <zipfile.ZipFile file=<_io.BufferedReader name='tyler.npz'> mode='r'>,\n",
       " 'f': <numpy.lib.npyio.BagObj at 0x7f15e6a6d6a0>,\n",
       " 'fid': <_io.BufferedReader name='tyler.npz'>}"
      ]
     },
     "execution_count": 47,
     "metadata": {},
     "output_type": "execute_result"
    }
   ],
   "source": [
    "t.__dict__"
   ]
  },
  {
   "cell_type": "code",
   "execution_count": 49,
   "metadata": {},
   "outputs": [
    {
     "data": {
      "text/plain": [
       "(80000,)"
      ]
     },
     "execution_count": 49,
     "metadata": {},
     "output_type": "execute_result"
    }
   ],
   "source": [
    "t['ground_truth'].shape"
   ]
  },
  {
   "cell_type": "code",
   "execution_count": null,
   "metadata": {
    "collapsed": true
   },
   "outputs": [],
   "source": [
    "parser.add_argument('-n', type=int, default=2000, help='number of samples for each distribution')\n",
    "parser.add_argument('-nb', type=int, default=500, help='number of changes of distribution in the series')\n",
    "parser.add_argument('-d', type=int, default=100, help='dimensionality of the samples in the time series')"
   ]
  },
  {
   "cell_type": "code",
   "execution_count": 5,
   "metadata": {},
   "outputs": [],
   "source": [
    "# default data settings\n",
    "n=2000\n",
    "nb_change=500\n",
    "d=100"
   ]
  },
  {
   "cell_type": "code",
   "execution_count": 6,
   "metadata": {},
   "outputs": [
    {
     "ename": "AttributeError",
     "evalue": "module 'sklearn.mixture' has no attribute 'gaussian_mixture'",
     "output_type": "error",
     "traceback": [
      "\u001b[0;31m---------------------------------------------------------------------------\u001b[0m",
      "\u001b[0;31mAttributeError\u001b[0m                            Traceback (most recent call last)",
      "\u001b[0;32m<ipython-input-6-a761dc3838e3>\u001b[0m in \u001b[0;36m<module>\u001b[0;34m\u001b[0m\n\u001b[1;32m      5\u001b[0m \u001b[0;34m\u001b[0m\u001b[0m\n\u001b[1;32m      6\u001b[0m X, ground_truth = gd.stream_GMM(d=d, n=n, nb_change=nb_change, std_mean=std_mean, \n\u001b[0;32m----> 7\u001b[0;31m                                 concentration_wishart=wishart, k=k)\n\u001b[0m",
      "\u001b[0;32m~/git/EDT-QR/newma/onlinecp/utils/gendata.py\u001b[0m in \u001b[0;36mstream_GMM\u001b[0;34m(d, k, n, nb_change, std_mean, concentration_wishart, concentration_dirichlet)\u001b[0m\n\u001b[1;32m    123\u001b[0m     \u001b[0;32mfor\u001b[0m \u001b[0mi\u001b[0m \u001b[0;32min\u001b[0m \u001b[0mrange\u001b[0m\u001b[0;34m(\u001b[0m\u001b[0mnb_change\u001b[0m\u001b[0;34m)\u001b[0m\u001b[0;34m:\u001b[0m\u001b[0;34m\u001b[0m\u001b[0;34m\u001b[0m\u001b[0m\n\u001b[1;32m    124\u001b[0m         GM = generateGMM(d=d, k=k, n=n, std_mean=std_mean, concentration_wishart=concentration_wishart,\n\u001b[0;32m--> 125\u001b[0;31m                          concentration_dirichlet=concentration_dirichlet)\n\u001b[0m\u001b[1;32m    126\u001b[0m         \u001b[0mX\u001b[0m\u001b[0;34m[\u001b[0m\u001b[0mi\u001b[0m\u001b[0;34m*\u001b[0m\u001b[0mn\u001b[0m\u001b[0;34m:\u001b[0m\u001b[0;34m(\u001b[0m\u001b[0mi\u001b[0m\u001b[0;34m+\u001b[0m\u001b[0;36m1\u001b[0m\u001b[0;34m)\u001b[0m\u001b[0;34m*\u001b[0m\u001b[0mn\u001b[0m\u001b[0;34m,\u001b[0m \u001b[0;34m:\u001b[0m\u001b[0;34m]\u001b[0m \u001b[0;34m=\u001b[0m \u001b[0mGM\u001b[0m\u001b[0;34m[\u001b[0m\u001b[0;34m'data'\u001b[0m\u001b[0;34m]\u001b[0m\u001b[0;34m\u001b[0m\u001b[0;34m\u001b[0m\u001b[0m\n\u001b[1;32m    127\u001b[0m         \u001b[0;32mif\u001b[0m \u001b[0mi\u001b[0m \u001b[0;34m!=\u001b[0m \u001b[0;36m0\u001b[0m\u001b[0;34m:\u001b[0m\u001b[0;34m\u001b[0m\u001b[0;34m\u001b[0m\u001b[0m\n",
      "\u001b[0;32m~/git/EDT-QR/newma/onlinecp/utils/gendata.py\u001b[0m in \u001b[0;36mgenerateGMM\u001b[0;34m(d, k, n, std_mean, concentration_wishart, concentration_dirichlet)\u001b[0m\n\u001b[1;32m    102\u001b[0m     \u001b[0mclf\u001b[0m\u001b[0;34m.\u001b[0m\u001b[0mmeans_\u001b[0m \u001b[0;34m=\u001b[0m \u001b[0mmu\u001b[0m\u001b[0;34m\u001b[0m\u001b[0;34m\u001b[0m\u001b[0m\n\u001b[1;32m    103\u001b[0m     \u001b[0mclf\u001b[0m\u001b[0;34m.\u001b[0m \u001b[0mcovariances_\u001b[0m \u001b[0;34m=\u001b[0m \u001b[0mSigma\u001b[0m\u001b[0;34m\u001b[0m\u001b[0;34m\u001b[0m\u001b[0m\n\u001b[0;32m--> 104\u001b[0;31m     clf.precisions_cholesky_ = mixture.gaussian_mixture._compute_precision_cholesky(\n\u001b[0m\u001b[1;32m    105\u001b[0m         Sigma, clf.covariance_type)\n\u001b[1;32m    106\u001b[0m     \u001b[0mclf\u001b[0m\u001b[0;34m.\u001b[0m\u001b[0mweights_\u001b[0m \u001b[0;34m=\u001b[0m \u001b[0mweights\u001b[0m\u001b[0;34m\u001b[0m\u001b[0;34m\u001b[0m\u001b[0m\n",
      "\u001b[0;31mAttributeError\u001b[0m: module 'sklearn.mixture' has no attribute 'gaussian_mixture'"
     ]
    }
   ],
   "source": [
    "# parameters of gmm\n",
    "k = 10\n",
    "std_mean = 0.11  # the bigger, the more change in means\n",
    "wishart = 5  # the bigger, the less change in diagonal variances\n",
    "\n",
    "X, ground_truth = gd.stream_GMM(d=d, n=n, nb_change=nb_change, std_mean=std_mean, \n",
    "                                concentration_wishart=wishart, k=k)"
   ]
  },
  {
   "cell_type": "code",
   "execution_count": null,
   "metadata": {},
   "outputs": [],
   "source": [
    "# each row is a data point, each col is a feature/dimension\n",
    "X.shape"
   ]
  },
  {
   "cell_type": "code",
   "execution_count": 2,
   "metadata": {},
   "outputs": [],
   "source": [
    "gd.stream_GMM?"
   ]
  },
  {
   "cell_type": "code",
   "execution_count": 17,
   "metadata": {
    "collapsed": true
   },
   "outputs": [],
   "source": [
    "X2, truth = gd.stream_GMM(d=1, nb_change=2, n=1000)"
   ]
  },
  {
   "cell_type": "code",
   "execution_count": 43,
   "metadata": {},
   "outputs": [
    {
     "name": "stdout",
     "output_type": "stream",
     "text": [
      "Evaluate performance 0 / 30\n",
      "Evaluate performance 1 / 30\n",
      "Evaluate performance 2 / 30\n",
      "Evaluate performance 3 / 30\n",
      "Evaluate performance 4 / 30\n",
      "Evaluate performance 5 / 30\n",
      "Evaluate performance 6 / 30\n",
      "Evaluate performance 7 / 30\n",
      "Evaluate performance 8 / 30\n",
      "Evaluate performance 9 / 30\n",
      "Evaluate performance 10 / 30\n",
      "Evaluate performance 11 / 30\n",
      "Evaluate performance 12 / 30\n",
      "Evaluate performance 13 / 30\n",
      "Evaluate performance 14 / 30\n",
      "Evaluate performance 15 / 30\n",
      "Evaluate performance 16 / 30\n",
      "Evaluate performance 17 / 30\n",
      "Evaluate performance 18 / 30\n",
      "Evaluate performance 19 / 30\n",
      "Evaluate performance 20 / 30\n",
      "Evaluate performance 21 / 30\n",
      "Evaluate performance 22 / 30\n",
      "Evaluate performance 23 / 30\n",
      "Evaluate performance 24 / 30\n",
      "Evaluate performance 25 / 30\n",
      "Evaluate performance 26 / 30\n",
      "Evaluate performance 27 / 30\n",
      "Evaluate performance 28 / 30\n",
      "Evaluate performance 29 / 30\n",
      "Evaluate performance 0 / 1\n"
     ]
    }
   ],
   "source": [
    "\n",
    "# Data generation\n",
    "n = 1000\n",
    "nb_change = 100\n",
    "d = 5\n",
    "mult = 1.\n",
    "\n",
    "# parameters of gmm\n",
    "k = 10\n",
    "std_mean = 0.11  # the bigger, the more change in means\n",
    "wishart = 5  # the bigger, the less change in diagonal variances\n",
    "\n",
    "X, ground_truth = gd.stream_GMM(d=d, n=n, nb_change=nb_change, std_mean=std_mean, concentration_wishart=wishart,\n",
    "                                k=k)\n",
    "\n",
    "# common config\n",
    "choice_sigma = 'median'\n",
    "numel = 100\n",
    "data_sigma_estimate = X[:numel]  # data for median trick to estimate sigma\n",
    "B = 250 # window size\n",
    "\n",
    "# Scan-B config\n",
    "N = 3  # number of windows in scan-B\n",
    "\n",
    "# Newma and MA config\n",
    "big_Lambda, small_lambda = algos.select_optimal_parameters(B)  # forget factors chosen with heuristic in the paper\n",
    "thres_ff = small_lambda\n",
    "# number of random features is set automatically with this criterion\n",
    "m = int((1 / 4) / (small_lambda + big_Lambda) ** 2)\n",
    "m_OPU = 10 * m\n",
    "W, sigmasq = feat.generate_frequencies(m, d, data=data_sigma_estimate, choice_sigma=choice_sigma)\n",
    "\n",
    "detector = algos.ScanB(X[0], kernel_func=lambda x, y: feat.gauss_kernel(x, y, np.sqrt(sigmasq)), window_size=B,\n",
    "                       nbr_windows=N, adapt_forget_factor=thres_ff)\n",
    "detector.apply_to_data(X)\n",
    "\n",
    "\n",
    "# detector = algos.NEWMA(X[0], forget_factor=big_Lambda, forget_factor2=small_lambda,\n",
    "#                        adapt_forget_factor=thres_ff)\n",
    "# detector.apply_to_data(X)\n",
    "\n",
    "\n",
    "# compute performance metrics\n",
    "detection_stat = np.array([i[0] for i in detector.stat_stored])[int(10 * n):]  # padding\n",
    "online_th = np.array([i[1] for i in detector.stat_stored])[int(10 * n):]\n",
    "ground_truth = ground_truth[int(10 * n):]\n",
    "\n",
    "# display perf\n",
    "EDD, FA, ND = ev.compute_curves(ground_truth, detection_stat, num_points=30, start_coeff=1.05, end_coeff=1.2)\n",
    "EDDth, FAth, NDth = ev.compute_curves(ground_truth, detection_stat, num_points=1,\n",
    "                                      thres_values=online_th, start_coeff=1, end_coeff=1)\n",
    "\n"
   ]
  },
  {
   "cell_type": "code",
   "execution_count": 44,
   "metadata": {},
   "outputs": [
    {
     "data": {
      "text/plain": [
       "array([ 164.8313253 ,  167.46341463,  168.01219512,  168.54878049,\n",
       "        167.82716049,  167.62962963,  169.40740741,  164.91139241,\n",
       "        164.78481013,  165.        ,  167.25316456,  166.64102564,\n",
       "        166.82051282,  166.92307692,  163.19480519,  164.15789474,\n",
       "        166.60526316,  166.86842105,  167.26315789,  167.73684211,\n",
       "        168.11842105,  168.82894737,  169.90789474,  170.28947368,\n",
       "        170.55263158,  171.82894737,  172.30666667,  173.28378378,\n",
       "        173.40540541,  173.71621622])"
      ]
     },
     "execution_count": 44,
     "metadata": {},
     "output_type": "execute_result"
    }
   ],
   "source": [
    "EDD"
   ]
  },
  {
   "cell_type": "code",
   "execution_count": 47,
   "metadata": {},
   "outputs": [
    {
     "data": {
      "text/plain": [
       "array([ 1.,  0.,  0., ...,  0.,  0.,  0.])"
      ]
     },
     "execution_count": 47,
     "metadata": {},
     "output_type": "execute_result"
    }
   ],
   "source": [
    "ground_truth"
   ]
  },
  {
   "cell_type": "code",
   "execution_count": 37,
   "metadata": {},
   "outputs": [
    {
     "data": {
      "text/plain": [
       "(array([    0,  1000,  2000,  3000,  4000,  5000,  6000,  7000,  8000,\n",
       "         9000, 10000, 11000, 12000, 13000, 14000, 15000, 16000, 17000,\n",
       "        18000, 19000, 20000, 21000, 22000, 23000, 24000, 25000, 26000,\n",
       "        27000, 28000, 29000, 30000, 31000, 32000, 33000, 34000, 35000,\n",
       "        36000, 37000, 38000, 39000, 40000, 41000, 42000, 43000, 44000,\n",
       "        45000, 46000, 47000, 48000, 49000, 50000, 51000, 52000, 53000,\n",
       "        54000, 55000, 56000, 57000, 58000, 59000, 60000, 61000, 62000,\n",
       "        63000, 64000, 65000, 66000, 67000, 68000, 69000, 70000, 71000,\n",
       "        72000, 73000, 74000, 75000, 76000, 77000, 78000, 79000, 80000,\n",
       "        81000, 82000, 83000, 84000, 85000, 86000, 87000, 88000, 89000]),)"
      ]
     },
     "execution_count": 37,
     "metadata": {},
     "output_type": "execute_result"
    }
   ],
   "source": [
    "np.where(ground_truth==1)"
   ]
  },
  {
   "cell_type": "code",
   "execution_count": 39,
   "metadata": {},
   "outputs": [
    {
     "data": {
      "image/png": "[encoded data removed]",
      "text/plain": [
       "<Figure size 432x288 with 1 Axes>"
      ]
     },
     "metadata": {},
     "output_type": "display_data"
    },
    {
     "data": {
      "image/png": "[encoded data removed]",
      "text/plain": [
       "<Figure size 432x288 with 1 Axes>"
      ]
     },
     "metadata": {},
     "output_type": "display_data"
    }
   ],
   "source": [
    "import matplotlib.pyplot as plt\n",
    "\n",
    "plt.figure()\n",
    "plt.plot(FA, EDD, '-o', label='')\n",
    "plt.plot(FAth, EDDth, 'o', markersize=20)\n",
    "plt.xlabel('False Alarm')\n",
    "plt.ylabel('Expected Detection Delay')\n",
    "plt.show()\n",
    "\n",
    "plt.figure()\n",
    "plt.plot(FA, ND, '-o')\n",
    "plt.plot(FAth, NDth, 'o', markersize=20)\n",
    "plt.xlabel('False Alarm')\n",
    "plt.ylabel('Missed Detection')\n",
    "plt.show()"
   ]
  },
  {
   "cell_type": "code",
   "execution_count": null,
   "metadata": {
    "collapsed": true
   },
   "outputs": [],
   "source": []
  }
 ],
 "metadata": {
  "anaconda-cloud": {},
  "kernelspec": {
   "display_name": "Python 3",
   "language": "python",
   "name": "python3"
  },
  "language_info": {
   "codemirror_mode": {
    "name": "ipython",
    "version": 3
   },
   "file_extension": ".py",
   "mimetype": "text/x-python",
   "name": "python",
   "nbconvert_exporter": "python",
   "pygments_lexer": "ipython3",
   "version": "3.6.10"
  }
 },
 "nbformat": 4,
 "nbformat_minor": 2
}
