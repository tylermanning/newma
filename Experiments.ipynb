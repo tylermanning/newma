{
 "cells": [
  {
   "cell_type": "code",
   "execution_count": 1,
   "metadata": {},
   "outputs": [],
   "source": [
    "import numpy as np\n",
    "import sklearn\n",
    "%matplotlib inline\n",
    "import matplotlib\n",
    "import pandas as pd\n",
    "import matplotlib.pyplot as plt\n",
    "\n",
    "import onlinecp.algos as algos\n",
    "import onlinecp.utils.feature_functions as feat\n",
    "import onlinecp.utils.gendata as gd\n",
    "import onlinecp.utils.evaluation as ev\n",
    "from onlinecp.utils.datasets import pw_linear, pw_constant\n",
    "from experiments import Experiment"
   ]
  },
  {
   "cell_type": "code",
   "execution_count": 2,
   "metadata": {},
   "outputs": [
    {
     "name": "stdout",
     "output_type": "stream",
     "text": [
      "GMM Dataset has 25000 data points and 15 features\n",
      "There are 9.0 change points\n"
     ]
    }
   ],
   "source": [
    "# GMM dataset, note nb_change=1 means no CPs will be in dataset, each CP is seperated by n points\n",
    "X2, truth = gd.stream_GMM(d=15, nb_change=10, n=2500)\n",
    "\n",
    "print(f'GMM Dataset has {X2.shape[0]} data points and {X2.shape[1]} features')\n",
    "print(f'There are {truth.sum()} change points')"
   ]
  },
  {
   "cell_type": "code",
   "execution_count": 3,
   "metadata": {},
   "outputs": [],
   "source": [
    "exp = Experiment(X2, truth, 10, 'newmaRFF')"
   ]
  },
  {
   "cell_type": "code",
   "execution_count": 4,
   "metadata": {},
   "outputs": [
    {
     "name": "stdout",
     "output_type": "stream",
     "text": [
      "Start algo  newmaRFF ...\n"
     ]
    }
   ],
   "source": [
    "exp.run_algo()"
   ]
  },
  {
   "cell_type": "code",
   "execution_count": 5,
   "metadata": {},
   "outputs": [
    {
     "name": "stdout",
     "output_type": "stream",
     "text": [
      "Omitting first 3 distributions\n",
      "Calculating performance with 30 points\n",
      "Evaluate performance 1 / 30\n",
      "{'num_changes': 9, 'EDD': 164.11111111111111, '%_missed': 0.0, 'total_missed': 0, 'total_false_alarms': 1, 'false_alarm_rate': 0.1111111111111111, 'ttfas': [350], 'avg_ttfa': 350.0, 'cp': array([False, False, False, ..., False, False, False])}\n",
      "Evaluate performance 2 / 30\n",
      "{'num_changes': 9, 'EDD': 164.66666666666666, '%_missed': 0.0, 'total_missed': 0, 'total_false_alarms': 0, 'false_alarm_rate': 0.0, 'ttfas': [], 'avg_ttfa': 0.0, 'cp': array([False, False, False, ..., False, False, False])}\n",
      "Evaluate performance 3 / 30\n",
      "{'num_changes': 9, 'EDD': 165.55555555555554, '%_missed': 0.0, 'total_missed': 0, 'total_false_alarms': 0, 'false_alarm_rate': 0.0, 'ttfas': [], 'avg_ttfa': 0.0, 'cp': array([False, False, False, ..., False, False, False])}\n",
      "Evaluate performance 4 / 30\n",
      "{'num_changes': 9, 'EDD': 165.55555555555554, '%_missed': 0.0, 'total_missed': 0, 'total_false_alarms': 0, 'false_alarm_rate': 0.0, 'ttfas': [], 'avg_ttfa': 0.0, 'cp': array([False, False, False, ..., False, False, False])}\n",
      "Evaluate performance 5 / 30\n",
      "{'num_changes': 9, 'EDD': 167.44444444444446, '%_missed': 0.0, 'total_missed': 0, 'total_false_alarms': 0, 'false_alarm_rate': 0.0, 'ttfas': [], 'avg_ttfa': 0.0, 'cp': array([False, False, False, ..., False, False, False])}\n",
      "Evaluate performance 6 / 30\n",
      "{'num_changes': 9, 'EDD': 187.22222222222223, '%_missed': 0.0, 'total_missed': 0, 'total_false_alarms': 0, 'false_alarm_rate': 0.0, 'ttfas': [], 'avg_ttfa': 0.0, 'cp': array([False, False, False, ..., False, False, False])}\n",
      "Evaluate performance 7 / 30\n",
      "{'num_changes': 9, 'EDD': 174.375, '%_missed': 11.11111111111111, 'total_missed': 1, 'total_false_alarms': 0, 'false_alarm_rate': 0.0, 'ttfas': [], 'avg_ttfa': 0.0, 'cp': array([False, False, False, ..., False, False, False])}\n",
      "Evaluate performance 8 / 30\n",
      "{'num_changes': 9, 'EDD': 174.5, '%_missed': 11.11111111111111, 'total_missed': 1, 'total_false_alarms': 0, 'false_alarm_rate': 0.0, 'ttfas': [], 'avg_ttfa': 0.0, 'cp': array([False, False, False, ..., False, False, False])}\n",
      "Evaluate performance 9 / 30\n",
      "{'num_changes': 9, 'EDD': 175.75, '%_missed': 11.11111111111111, 'total_missed': 1, 'total_false_alarms': 0, 'false_alarm_rate': 0.0, 'ttfas': [], 'avg_ttfa': 0.0, 'cp': array([False, False, False, ..., False, False, False])}\n",
      "Evaluate performance 10 / 30\n",
      "{'num_changes': 9, 'EDD': 176.0, '%_missed': 11.11111111111111, 'total_missed': 1, 'total_false_alarms': 0, 'false_alarm_rate': 0.0, 'ttfas': [], 'avg_ttfa': 0.0, 'cp': array([False, False, False, ..., False, False, False])}\n",
      "Evaluate performance 11 / 30\n",
      "{'num_changes': 9, 'EDD': 176.375, '%_missed': 11.11111111111111, 'total_missed': 1, 'total_false_alarms': 0, 'false_alarm_rate': 0.0, 'ttfas': [], 'avg_ttfa': 0.0, 'cp': array([False, False, False, ..., False, False, False])}\n",
      "Evaluate performance 12 / 30\n",
      "{'num_changes': 9, 'EDD': 176.5, '%_missed': 11.11111111111111, 'total_missed': 1, 'total_false_alarms': 0, 'false_alarm_rate': 0.0, 'ttfas': [], 'avg_ttfa': 0.0, 'cp': array([False, False, False, ..., False, False, False])}\n",
      "Evaluate performance 13 / 30\n",
      "{'num_changes': 9, 'EDD': 176.875, '%_missed': 11.11111111111111, 'total_missed': 1, 'total_false_alarms': 0, 'false_alarm_rate': 0.0, 'ttfas': [], 'avg_ttfa': 0.0, 'cp': array([False, False, False, ..., False, False, False])}\n",
      "Evaluate performance 14 / 30\n",
      "{'num_changes': 9, 'EDD': 177.125, '%_missed': 11.11111111111111, 'total_missed': 1, 'total_false_alarms': 0, 'false_alarm_rate': 0.0, 'ttfas': [], 'avg_ttfa': 0.0, 'cp': array([False, False, False, ..., False, False, False])}\n",
      "Evaluate performance 15 / 30\n",
      "{'num_changes': 9, 'EDD': 177.5, '%_missed': 11.11111111111111, 'total_missed': 1, 'total_false_alarms': 0, 'false_alarm_rate': 0.0, 'ttfas': [], 'avg_ttfa': 0.0, 'cp': array([False, False, False, ..., False, False, False])}\n",
      "Evaluate performance 16 / 30\n",
      "{'num_changes': 9, 'EDD': 186.5, '%_missed': 11.11111111111111, 'total_missed': 1, 'total_false_alarms': 0, 'false_alarm_rate': 0.0, 'ttfas': [], 'avg_ttfa': 0.0, 'cp': array([False, False, False, ..., False, False, False])}\n",
      "Evaluate performance 17 / 30\n",
      "{'num_changes': 9, 'EDD': 188.125, '%_missed': 11.11111111111111, 'total_missed': 1, 'total_false_alarms': 0, 'false_alarm_rate': 0.0, 'ttfas': [], 'avg_ttfa': 0.0, 'cp': array([False, False, False, ..., False, False, False])}\n",
      "Evaluate performance 18 / 30\n",
      "{'num_changes': 9, 'EDD': 190.0, '%_missed': 11.11111111111111, 'total_missed': 1, 'total_false_alarms': 0, 'false_alarm_rate': 0.0, 'ttfas': [], 'avg_ttfa': 0.0, 'cp': array([False, False, False, ..., False, False, False])}\n",
      "Evaluate performance 19 / 30\n",
      "{'num_changes': 9, 'EDD': 191.25, '%_missed': 11.11111111111111, 'total_missed': 1, 'total_false_alarms': 0, 'false_alarm_rate': 0.0, 'ttfas': [], 'avg_ttfa': 0.0, 'cp': array([False, False, False, ..., False, False, False])}\n",
      "Evaluate performance 20 / 30\n",
      "{'num_changes': 9, 'EDD': 193.0, '%_missed': 11.11111111111111, 'total_missed': 1, 'total_false_alarms': 0, 'false_alarm_rate': 0.0, 'ttfas': [], 'avg_ttfa': 0.0, 'cp': array([False, False, False, ..., False, False, False])}\n",
      "Evaluate performance 21 / 30\n",
      "{'num_changes': 9, 'EDD': 194.28571428571428, '%_missed': 22.22222222222222, 'total_missed': 2, 'total_false_alarms': 0, 'false_alarm_rate': 0.0, 'ttfas': [], 'avg_ttfa': 0.0, 'cp': array([False, False, False, ..., False, False, False])}\n",
      "Evaluate performance 22 / 30\n",
      "{'num_changes': 9, 'EDD': 201.71428571428572, '%_missed': 22.22222222222222, 'total_missed': 2, 'total_false_alarms': 0, 'false_alarm_rate': 0.0, 'ttfas': [], 'avg_ttfa': 0.0, 'cp': array([False, False, False, ..., False, False, False])}\n",
      "Evaluate performance 23 / 30\n",
      "{'num_changes': 9, 'EDD': 202.28571428571428, '%_missed': 22.22222222222222, 'total_missed': 2, 'total_false_alarms': 0, 'false_alarm_rate': 0.0, 'ttfas': [], 'avg_ttfa': 0.0, 'cp': array([False, False, False, ..., False, False, False])}\n",
      "Evaluate performance 24 / 30\n",
      "{'num_changes': 9, 'EDD': 207.0, '%_missed': 22.22222222222222, 'total_missed': 2, 'total_false_alarms': 0, 'false_alarm_rate': 0.0, 'ttfas': [], 'avg_ttfa': 0.0, 'cp': array([False, False, False, ..., False, False, False])}\n",
      "Evaluate performance 25 / 30\n",
      "{'num_changes': 9, 'EDD': 207.57142857142858, '%_missed': 22.22222222222222, 'total_missed': 2, 'total_false_alarms': 0, 'false_alarm_rate': 0.0, 'ttfas': [], 'avg_ttfa': 0.0, 'cp': array([False, False, False, ..., False, False, False])}\n",
      "Evaluate performance 26 / 30\n",
      "{'num_changes': 9, 'EDD': 215.14285714285714, '%_missed': 22.22222222222222, 'total_missed': 2, 'total_false_alarms': 0, 'false_alarm_rate': 0.0, 'ttfas': [], 'avg_ttfa': 0.0, 'cp': array([False, False, False, ..., False, False, False])}\n",
      "Evaluate performance 27 / 30\n",
      "{'num_changes': 9, 'EDD': 215.57142857142858, '%_missed': 22.22222222222222, 'total_missed': 2, 'total_false_alarms': 0, 'false_alarm_rate': 0.0, 'ttfas': [], 'avg_ttfa': 0.0, 'cp': array([False, False, False, ..., False, False, False])}\n",
      "Evaluate performance 28 / 30\n",
      "{'num_changes': 9, 'EDD': 235.14285714285714, '%_missed': 22.22222222222222, 'total_missed': 2, 'total_false_alarms': 0, 'false_alarm_rate': 0.0, 'ttfas': [], 'avg_ttfa': 0.0, 'cp': array([False, False, False, ..., False, False, False])}\n",
      "Evaluate performance 29 / 30\n",
      "{'num_changes': 9, 'EDD': 235.71428571428572, '%_missed': 22.22222222222222, 'total_missed': 2, 'total_false_alarms': 0, 'false_alarm_rate': 0.0, 'ttfas': [], 'avg_ttfa': 0.0, 'cp': array([False, False, False, ..., False, False, False])}\n",
      "Evaluate performance 30 / 30\n",
      "{'num_changes': 9, 'EDD': 236.0, '%_missed': 22.22222222222222, 'total_missed': 2, 'total_false_alarms': 0, 'false_alarm_rate': 0.0, 'ttfas': [], 'avg_ttfa': 0.0, 'cp': array([False, False, False, ..., False, False, False])}\n",
      "Evaluate performance 1 / 30\n",
      "{'num_changes': 9, 'EDD': 86.75, '%_missed': 11.11111111111111, 'total_missed': 1, 'total_false_alarms': 58, 'false_alarm_rate': 6.444444444444445, 'ttfas': [329, 705, 465, 404, 360, 658, 1125, 1033], 'avg_ttfa': 634.875, 'cp': array([False, False, False, ..., False, False, False])}\n",
      "Evaluate performance 2 / 30\n",
      "{'num_changes': 9, 'EDD': 86.75, '%_missed': 11.11111111111111, 'total_missed': 1, 'total_false_alarms': 58, 'false_alarm_rate': 6.444444444444445, 'ttfas': [329, 705, 465, 404, 360, 658, 1125, 1033], 'avg_ttfa': 634.875, 'cp': array([False, False, False, ..., False, False, False])}\n",
      "Evaluate performance 3 / 30\n",
      "{'num_changes': 9, 'EDD': 86.75, '%_missed': 11.11111111111111, 'total_missed': 1, 'total_false_alarms': 58, 'false_alarm_rate': 6.444444444444445, 'ttfas': [329, 705, 465, 404, 360, 658, 1125, 1033], 'avg_ttfa': 634.875, 'cp': array([False, False, False, ..., False, False, False])}\n",
      "Evaluate performance 4 / 30\n",
      "{'num_changes': 9, 'EDD': 86.75, '%_missed': 11.11111111111111, 'total_missed': 1, 'total_false_alarms': 58, 'false_alarm_rate': 6.444444444444445, 'ttfas': [329, 705, 465, 404, 360, 658, 1125, 1033], 'avg_ttfa': 634.875, 'cp': array([False, False, False, ..., False, False, False])}\n",
      "Evaluate performance 5 / 30\n",
      "{'num_changes': 9, 'EDD': 86.75, '%_missed': 11.11111111111111, 'total_missed': 1, 'total_false_alarms': 58, 'false_alarm_rate': 6.444444444444445, 'ttfas': [329, 705, 465, 404, 360, 658, 1125, 1033], 'avg_ttfa': 634.875, 'cp': array([False, False, False, ..., False, False, False])}\n",
      "Evaluate performance 6 / 30\n",
      "{'num_changes': 9, 'EDD': 86.75, '%_missed': 11.11111111111111, 'total_missed': 1, 'total_false_alarms': 58, 'false_alarm_rate': 6.444444444444445, 'ttfas': [329, 705, 465, 404, 360, 658, 1125, 1033], 'avg_ttfa': 634.875, 'cp': array([False, False, False, ..., False, False, False])}\n",
      "Evaluate performance 7 / 30\n",
      "{'num_changes': 9, 'EDD': 86.75, '%_missed': 11.11111111111111, 'total_missed': 1, 'total_false_alarms': 58, 'false_alarm_rate': 6.444444444444445, 'ttfas': [329, 705, 465, 404, 360, 658, 1125, 1033], 'avg_ttfa': 634.875, 'cp': array([False, False, False, ..., False, False, False])}\n",
      "Evaluate performance 8 / 30\n",
      "{'num_changes': 9, 'EDD': 86.75, '%_missed': 11.11111111111111, 'total_missed': 1, 'total_false_alarms': 58, 'false_alarm_rate': 6.444444444444445, 'ttfas': [329, 705, 465, 404, 360, 658, 1125, 1033], 'avg_ttfa': 634.875, 'cp': array([False, False, False, ..., False, False, False])}\n",
      "Evaluate performance 9 / 30\n",
      "{'num_changes': 9, 'EDD': 86.75, '%_missed': 11.11111111111111, 'total_missed': 1, 'total_false_alarms': 58, 'false_alarm_rate': 6.444444444444445, 'ttfas': [329, 705, 465, 404, 360, 658, 1125, 1033], 'avg_ttfa': 634.875, 'cp': array([False, False, False, ..., False, False, False])}\n",
      "Evaluate performance 10 / 30\n",
      "{'num_changes': 9, 'EDD': 86.75, '%_missed': 11.11111111111111, 'total_missed': 1, 'total_false_alarms': 58, 'false_alarm_rate': 6.444444444444445, 'ttfas': [329, 705, 465, 404, 360, 658, 1125, 1033], 'avg_ttfa': 634.875, 'cp': array([False, False, False, ..., False, False, False])}\n",
      "Evaluate performance 11 / 30\n",
      "{'num_changes': 9, 'EDD': 86.75, '%_missed': 11.11111111111111, 'total_missed': 1, 'total_false_alarms': 58, 'false_alarm_rate': 6.444444444444445, 'ttfas': [329, 705, 465, 404, 360, 658, 1125, 1033], 'avg_ttfa': 634.875, 'cp': array([False, False, False, ..., False, False, False])}\n",
      "Evaluate performance 12 / 30\n",
      "{'num_changes': 9, 'EDD': 86.75, '%_missed': 11.11111111111111, 'total_missed': 1, 'total_false_alarms': 58, 'false_alarm_rate': 6.444444444444445, 'ttfas': [329, 705, 465, 404, 360, 658, 1125, 1033], 'avg_ttfa': 634.875, 'cp': array([False, False, False, ..., False, False, False])}\n",
      "Evaluate performance 13 / 30\n",
      "{'num_changes': 9, 'EDD': 86.75, '%_missed': 11.11111111111111, 'total_missed': 1, 'total_false_alarms': 58, 'false_alarm_rate': 6.444444444444445, 'ttfas': [329, 705, 465, 404, 360, 658, 1125, 1033], 'avg_ttfa': 634.875, 'cp': array([False, False, False, ..., False, False, False])}\n",
      "Evaluate performance 14 / 30\n",
      "{'num_changes': 9, 'EDD': 86.75, '%_missed': 11.11111111111111, 'total_missed': 1, 'total_false_alarms': 58, 'false_alarm_rate': 6.444444444444445, 'ttfas': [329, 705, 465, 404, 360, 658, 1125, 1033], 'avg_ttfa': 634.875, 'cp': array([False, False, False, ..., False, False, False])}\n",
      "Evaluate performance 15 / 30\n",
      "{'num_changes': 9, 'EDD': 86.75, '%_missed': 11.11111111111111, 'total_missed': 1, 'total_false_alarms': 58, 'false_alarm_rate': 6.444444444444445, 'ttfas': [329, 705, 465, 404, 360, 658, 1125, 1033], 'avg_ttfa': 634.875, 'cp': array([False, False, False, ..., False, False, False])}\n",
      "Evaluate performance 16 / 30\n",
      "{'num_changes': 9, 'EDD': 86.75, '%_missed': 11.11111111111111, 'total_missed': 1, 'total_false_alarms': 58, 'false_alarm_rate': 6.444444444444445, 'ttfas': [329, 705, 465, 404, 360, 658, 1125, 1033], 'avg_ttfa': 634.875, 'cp': array([False, False, False, ..., False, False, False])}\n",
      "Evaluate performance 17 / 30\n",
      "{'num_changes': 9, 'EDD': 86.75, '%_missed': 11.11111111111111, 'total_missed': 1, 'total_false_alarms': 58, 'false_alarm_rate': 6.444444444444445, 'ttfas': [329, 705, 465, 404, 360, 658, 1125, 1033], 'avg_ttfa': 634.875, 'cp': array([False, False, False, ..., False, False, False])}\n",
      "Evaluate performance 18 / 30\n",
      "{'num_changes': 9, 'EDD': 86.75, '%_missed': 11.11111111111111, 'total_missed': 1, 'total_false_alarms': 58, 'false_alarm_rate': 6.444444444444445, 'ttfas': [329, 705, 465, 404, 360, 658, 1125, 1033], 'avg_ttfa': 634.875, 'cp': array([False, False, False, ..., False, False, False])}\n",
      "Evaluate performance 19 / 30\n",
      "{'num_changes': 9, 'EDD': 86.75, '%_missed': 11.11111111111111, 'total_missed': 1, 'total_false_alarms': 58, 'false_alarm_rate': 6.444444444444445, 'ttfas': [329, 705, 465, 404, 360, 658, 1125, 1033], 'avg_ttfa': 634.875, 'cp': array([False, False, False, ..., False, False, False])}\n",
      "Evaluate performance 20 / 30\n",
      "{'num_changes': 9, 'EDD': 86.75, '%_missed': 11.11111111111111, 'total_missed': 1, 'total_false_alarms': 58, 'false_alarm_rate': 6.444444444444445, 'ttfas': [329, 705, 465, 404, 360, 658, 1125, 1033], 'avg_ttfa': 634.875, 'cp': array([False, False, False, ..., False, False, False])}\n",
      "Evaluate performance 21 / 30\n",
      "{'num_changes': 9, 'EDD': 86.75, '%_missed': 11.11111111111111, 'total_missed': 1, 'total_false_alarms': 58, 'false_alarm_rate': 6.444444444444445, 'ttfas': [329, 705, 465, 404, 360, 658, 1125, 1033], 'avg_ttfa': 634.875, 'cp': array([False, False, False, ..., False, False, False])}\n",
      "Evaluate performance 22 / 30\n",
      "{'num_changes': 9, 'EDD': 86.75, '%_missed': 11.11111111111111, 'total_missed': 1, 'total_false_alarms': 58, 'false_alarm_rate': 6.444444444444445, 'ttfas': [329, 705, 465, 404, 360, 658, 1125, 1033], 'avg_ttfa': 634.875, 'cp': array([False, False, False, ..., False, False, False])}\n",
      "Evaluate performance 23 / 30\n",
      "{'num_changes': 9, 'EDD': 86.75, '%_missed': 11.11111111111111, 'total_missed': 1, 'total_false_alarms': 58, 'false_alarm_rate': 6.444444444444445, 'ttfas': [329, 705, 465, 404, 360, 658, 1125, 1033], 'avg_ttfa': 634.875, 'cp': array([False, False, False, ..., False, False, False])}\n",
      "Evaluate performance 24 / 30\n",
      "{'num_changes': 9, 'EDD': 86.75, '%_missed': 11.11111111111111, 'total_missed': 1, 'total_false_alarms': 58, 'false_alarm_rate': 6.444444444444445, 'ttfas': [329, 705, 465, 404, 360, 658, 1125, 1033], 'avg_ttfa': 634.875, 'cp': array([False, False, False, ..., False, False, False])}\n",
      "Evaluate performance 25 / 30\n",
      "{'num_changes': 9, 'EDD': 86.75, '%_missed': 11.11111111111111, 'total_missed': 1, 'total_false_alarms': 58, 'false_alarm_rate': 6.444444444444445, 'ttfas': [329, 705, 465, 404, 360, 658, 1125, 1033], 'avg_ttfa': 634.875, 'cp': array([False, False, False, ..., False, False, False])}\n",
      "Evaluate performance 26 / 30\n",
      "{'num_changes': 9, 'EDD': 86.75, '%_missed': 11.11111111111111, 'total_missed': 1, 'total_false_alarms': 58, 'false_alarm_rate': 6.444444444444445, 'ttfas': [329, 705, 465, 404, 360, 658, 1125, 1033], 'avg_ttfa': 634.875, 'cp': array([False, False, False, ..., False, False, False])}\n",
      "Evaluate performance 27 / 30\n",
      "{'num_changes': 9, 'EDD': 86.75, '%_missed': 11.11111111111111, 'total_missed': 1, 'total_false_alarms': 58, 'false_alarm_rate': 6.444444444444445, 'ttfas': [329, 705, 465, 404, 360, 658, 1125, 1033], 'avg_ttfa': 634.875, 'cp': array([False, False, False, ..., False, False, False])}\n",
      "Evaluate performance 28 / 30\n",
      "{'num_changes': 9, 'EDD': 86.75, '%_missed': 11.11111111111111, 'total_missed': 1, 'total_false_alarms': 58, 'false_alarm_rate': 6.444444444444445, 'ttfas': [329, 705, 465, 404, 360, 658, 1125, 1033], 'avg_ttfa': 634.875, 'cp': array([False, False, False, ..., False, False, False])}\n",
      "Evaluate performance 29 / 30\n",
      "{'num_changes': 9, 'EDD': 86.75, '%_missed': 11.11111111111111, 'total_missed': 1, 'total_false_alarms': 58, 'false_alarm_rate': 6.444444444444445, 'ttfas': [329, 705, 465, 404, 360, 658, 1125, 1033], 'avg_ttfa': 634.875, 'cp': array([False, False, False, ..., False, False, False])}\n",
      "Evaluate performance 30 / 30\n"
     ]
    },
    {
     "name": "stdout",
     "output_type": "stream",
     "text": [
      "{'num_changes': 9, 'EDD': 86.75, '%_missed': 11.11111111111111, 'total_missed': 1, 'total_false_alarms': 58, 'false_alarm_rate': 6.444444444444445, 'ttfas': [329, 705, 465, 404, 360, 658, 1125, 1033], 'avg_ttfa': 634.875, 'cp': array([False, False, False, ..., False, False, False])}\n"
     ]
    },
    {
     "data": {
      "text/plain": [
       "{'EDD': array([164.11111111, 164.66666667, 165.55555556, 165.55555556,\n",
       "        167.44444444, 187.22222222, 174.375     , 174.5       ,\n",
       "        175.75      , 176.        , 176.375     , 176.5       ,\n",
       "        176.875     , 177.125     , 177.5       , 186.5       ,\n",
       "        188.125     , 190.        , 191.25      , 193.        ,\n",
       "        194.28571429, 201.71428571, 202.28571429, 207.        ,\n",
       "        207.57142857, 215.14285714, 215.57142857, 235.14285714,\n",
       "        235.71428571, 236.        ]),\n",
       " 'FA': array([0.11111111, 0.        , 0.        , 0.        , 0.        ,\n",
       "        0.        , 0.        , 0.        , 0.        , 0.        ,\n",
       "        0.        , 0.        , 0.        , 0.        , 0.        ,\n",
       "        0.        , 0.        , 0.        , 0.        , 0.        ,\n",
       "        0.        , 0.        , 0.        , 0.        , 0.        ,\n",
       "        0.        , 0.        , 0.        , 0.        , 0.        ]),\n",
       " 'ND': array([ 0.        ,  0.        ,  0.        ,  0.        ,  0.        ,\n",
       "         0.        , 11.11111111, 11.11111111, 11.11111111, 11.11111111,\n",
       "        11.11111111, 11.11111111, 11.11111111, 11.11111111, 11.11111111,\n",
       "        11.11111111, 11.11111111, 11.11111111, 11.11111111, 11.11111111,\n",
       "        22.22222222, 22.22222222, 22.22222222, 22.22222222, 22.22222222,\n",
       "        22.22222222, 22.22222222, 22.22222222, 22.22222222, 22.22222222]),\n",
       " 'EDDth': array([86.75, 86.75, 86.75, 86.75, 86.75, 86.75, 86.75, 86.75, 86.75,\n",
       "        86.75, 86.75, 86.75, 86.75, 86.75, 86.75, 86.75, 86.75, 86.75,\n",
       "        86.75, 86.75, 86.75, 86.75, 86.75, 86.75, 86.75, 86.75, 86.75,\n",
       "        86.75, 86.75, 86.75]),\n",
       " 'FAth': array([6.44444444, 6.44444444, 6.44444444, 6.44444444, 6.44444444,\n",
       "        6.44444444, 6.44444444, 6.44444444, 6.44444444, 6.44444444,\n",
       "        6.44444444, 6.44444444, 6.44444444, 6.44444444, 6.44444444,\n",
       "        6.44444444, 6.44444444, 6.44444444, 6.44444444, 6.44444444,\n",
       "        6.44444444, 6.44444444, 6.44444444, 6.44444444, 6.44444444,\n",
       "        6.44444444, 6.44444444, 6.44444444, 6.44444444, 6.44444444]),\n",
       " 'NDth': array([11.11111111, 11.11111111, 11.11111111, 11.11111111, 11.11111111,\n",
       "        11.11111111, 11.11111111, 11.11111111, 11.11111111, 11.11111111,\n",
       "        11.11111111, 11.11111111, 11.11111111, 11.11111111, 11.11111111,\n",
       "        11.11111111, 11.11111111, 11.11111111, 11.11111111, 11.11111111,\n",
       "        11.11111111, 11.11111111, 11.11111111, 11.11111111, 11.11111111,\n",
       "        11.11111111, 11.11111111, 11.11111111, 11.11111111, 11.11111111])}"
      ]
     },
     "execution_count": 5,
     "metadata": {},
     "output_type": "execute_result"
    }
   ],
   "source": [
    "exp.get_results()"
   ]
  },
  {
   "cell_type": "code",
   "execution_count": null,
   "metadata": {},
   "outputs": [],
   "source": [
    "exp.statistics"
   ]
  },
  {
   "cell_type": "code",
   "execution_count": null,
   "metadata": {},
   "outputs": [],
   "source": [
    "flagged = np.zeros(25000)"
   ]
  },
  {
   "cell_type": "code",
   "execution_count": null,
   "metadata": {},
   "outputs": [],
   "source": [
    "where_change"
   ]
  },
  {
   "cell_type": "code",
   "execution_count": null,
   "metadata": {},
   "outputs": [],
   "source": [
    "flagged[2502]=1"
   ]
  },
  {
   "cell_type": "code",
   "execution_count": null,
   "metadata": {},
   "outputs": [],
   "source": [
    "flagged[4998]=1\n",
    "flagged[4996]=1"
   ]
  },
  {
   "cell_type": "code",
   "execution_count": null,
   "metadata": {},
   "outputs": [],
   "source": [
    "flagged[8998]=1"
   ]
  },
  {
   "cell_type": "code",
   "execution_count": null,
   "metadata": {},
   "outputs": [],
   "source": [
    "flagged[6000]=1"
   ]
  },
  {
   "cell_type": "code",
   "execution_count": null,
   "metadata": {},
   "outputs": [],
   "source": [
    "truth.shape"
   ]
  },
  {
   "cell_type": "code",
   "execution_count": null,
   "metadata": {},
   "outputs": [],
   "source": [
    "flagged.sum()"
   ]
  },
  {
   "cell_type": "code",
   "execution_count": null,
   "metadata": {},
   "outputs": [],
   "source": [
    "(cp!=flagged).sum()"
   ]
  },
  {
   "cell_type": "code",
   "execution_count": null,
   "metadata": {},
   "outputs": [],
   "source": [
    "cp[1999]"
   ]
  },
  {
   "cell_type": "code",
   "execution_count": null,
   "metadata": {},
   "outputs": [],
   "source": [
    "n = truth.shape[0]\n",
    "if n != flagged.shape[0]:\n",
    "    print('error', n, flagged.shape[0])\n",
    "# change flagged into change point, going from 0 to 1\n",
    "cp = np.zeros(n, dtype=bool)\n",
    "for i in range(n-1):\n",
    "    # consecutive flags are disregarded and only 1 is kepty\n",
    "    if not flagged[i] and flagged[i + 1]:\n",
    "        cp[i] = 1\n",
    "\n",
    "EDD, not_detected, FA = 0, 0, 0\n",
    "num_change = int(truth.sum())\n",
    "where_change = np.concatenate((np.argwhere(truth).flatten(), np.array([n])))\n",
    "\n",
    "total_delays, total_undetected = 0, 0\n",
    "ttfas = []\n",
    "\n",
    "for i in range(num_change):\n",
    "    begin_ind = where_change[i]\n",
    "    end_ind = where_change[i + 1]\n",
    "    middle_ind = int((begin_ind + end_ind) / 2)\n",
    "    j = begin_ind\n",
    "    while j <= middle_ind and not cp[j]:\n",
    "        j = j+1\n",
    "    if cp[j]:\n",
    "        delay = j - begin_ind\n",
    "        total_delays += j - begin_ind\n",
    "    else:\n",
    "        total_undetected += 1\n",
    "        not_detected += 1\n",
    "    false_alarms = cp[middle_ind:end_ind].sum()\n",
    "    if false_alarms > 0:\n",
    "        ttfa = np.where(cp[middle_ind:end_ind])[0][0]\n",
    "        ttfas.append(ttfa)\n",
    "        \n",
    "    FA += cp[middle_ind:end_ind].sum()\n",
    "    \n",
    "{'num_changes':num_change,\n",
    " 'EDD': total_delays / np.max((num_change - not_detected, 1)),\n",
    " '%_missed': 100 * not_detected / num_change,\n",
    " 'total_missed': total_undetected,\n",
    " 'total_false_alarms': FA,\n",
    " 'false_alarm_rate': FA / num_change,\n",
    " 'ttfas': ttfas,\n",
    " 'avg_ttfa':sum(ttfas) / len(ttfas),\n",
    " 'cp': cp}"
   ]
  },
  {
   "cell_type": "code",
   "execution_count": null,
   "metadata": {},
   "outputs": [],
   "source": [
    "cp.shape"
   ]
  },
  {
   "cell_type": "code",
   "execution_count": null,
   "metadata": {},
   "outputs": [],
   "source": [
    "cp[3750:5000].sum()"
   ]
  },
  {
   "cell_type": "code",
   "execution_count": null,
   "metadata": {},
   "outputs": [],
   "source": [
    "np.where(cp[3750:5000])[0][0]"
   ]
  },
  {
   "cell_type": "code",
   "execution_count": null,
   "metadata": {},
   "outputs": [],
   "source": [
    "np.where(cp)"
   ]
  },
  {
   "cell_type": "code",
   "execution_count": null,
   "metadata": {},
   "outputs": [],
   "source": [
    "8/9"
   ]
  },
  {
   "cell_type": "code",
   "execution_count": null,
   "metadata": {},
   "outputs": [],
   "source": [
    "EDD,FA,not_detected"
   ]
  },
  {
   "cell_type": "code",
   "execution_count": null,
   "metadata": {},
   "outputs": [],
   "source": [
    "where_change"
   ]
  },
  {
   "cell_type": "code",
   "execution_count": null,
   "metadata": {},
   "outputs": [],
   "source": [
    "detection_stat.shape"
   ]
  },
  {
   "cell_type": "code",
   "execution_count": null,
   "metadata": {},
   "outputs": [],
   "source": [
    "online_th.shape"
   ]
  },
  {
   "cell_type": "code",
   "execution_count": null,
   "metadata": {},
   "outputs": [],
   "source": [
    "# display perf\n",
    "EDD, FA, ND = ev.compute_curves(ground_truth, detection_stat, num_points=30, start_coeff=1.05, end_coeff=1.2)\n",
    "EDDth, FAth, NDth = ev.compute_curves(ground_truth, detection_stat, num_points=30,\n",
    "                                  thres_values=online_th, start_coeff=1, end_coeff=1)"
   ]
  },
  {
   "cell_type": "code",
   "execution_count": null,
   "metadata": {},
   "outputs": [],
   "source": [
    "exp.plot_stat_time_series()"
   ]
  },
  {
   "cell_type": "code",
   "execution_count": null,
   "metadata": {},
   "outputs": [],
   "source": [
    "# Linear dataset\n",
    "XL, _, truth = pw_linear(n_samples=20000, n_features=15, n_bkps=10, noise_std=0.1)\n",
    "\n",
    "print(f'Linear Dataset has {XL.shape[0]} data points and {XL.shape[1]} features')\n",
    "print(f'There are {truth.sum()} change points')"
   ]
  },
  {
   "cell_type": "code",
   "execution_count": null,
   "metadata": {},
   "outputs": [],
   "source": [
    "# Wavy dataset\n",
    "XW, _, truth = pw_linear(n_samples=20000, n_bkps=1, noise_std=0.1)\n",
    "\n",
    "print(f'Wavy Dataset has {XW.shape[0]} data points and {XW.shape[1]} features')\n",
    "print(f'There are {truth.sum()} change points')"
   ]
  },
  {
   "cell_type": "code",
   "execution_count": null,
   "metadata": {},
   "outputs": [],
   "source": [
    "exp = Experiment(XW, 'ScanB')"
   ]
  },
  {
   "cell_type": "code",
   "execution_count": null,
   "metadata": {},
   "outputs": [],
   "source": [
    "exp.run_algo()"
   ]
  },
  {
   "cell_type": "code",
   "execution_count": null,
   "metadata": {},
   "outputs": [],
   "source": [
    "exp.plot_stat_time_series()"
   ]
  },
  {
   "cell_type": "code",
   "execution_count": null,
   "metadata": {},
   "outputs": [],
   "source": [
    "exp.set_ttfa(1000)"
   ]
  },
  {
   "cell_type": "code",
   "execution_count": null,
   "metadata": {},
   "outputs": [],
   "source": [
    "exp.statistics"
   ]
  },
  {
   "cell_type": "code",
   "execution_count": null,
   "metadata": {},
   "outputs": [],
   "source": [
    "XW"
   ]
  },
  {
   "cell_type": "code",
   "execution_count": null,
   "metadata": {},
   "outputs": [],
   "source": [
    "XW[:,1]"
   ]
  },
  {
   "cell_type": "code",
   "execution_count": null,
   "metadata": {},
   "outputs": [],
   "source": [
    "import plotly.graph_objects as go"
   ]
  },
  {
   "cell_type": "code",
   "execution_count": null,
   "metadata": {},
   "outputs": [],
   "source": [
    "fig = go.Figure()\n",
    "fig.add_trace(go.Scatter(x=[i for i in range(XW.shape[0])], y=XW[:,0],\n",
    "                         mode='lines',\n",
    "                         name=f'Signal'))\n",
    "# fig.add_trace(go.Scatter(x=[i for i in range(self.signal.shape[0])], y=[i[1] for i in self.statistics],\n",
    "#                          mode='lines',\n",
    "#                          name=f'{self.algo} adaptive threshold'))\n",
    "fig.update_layout(title=f'Signal over time',\n",
    "                  xaxis_title=\"Time\",\n",
    "                  yaxis_title=\"Statistic\",\n",
    "                  )\n",
    "fig.show()"
   ]
  },
  {
   "cell_type": "code",
   "execution_count": null,
   "metadata": {},
   "outputs": [],
   "source": []
  }
 ],
 "metadata": {
  "kernelspec": {
   "display_name": "Python 3",
   "language": "python",
   "name": "python3"
  },
  "language_info": {
   "codemirror_mode": {
    "name": "ipython",
    "version": 3
   },
   "file_extension": ".py",
   "mimetype": "text/x-python",
   "name": "python",
   "nbconvert_exporter": "python",
   "pygments_lexer": "ipython3",
   "version": "3.6.10"
  }
 },
 "nbformat": 4,
 "nbformat_minor": 4
}
