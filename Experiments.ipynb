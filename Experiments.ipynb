{
 "cells": [
  {
   "cell_type": "code",
   "execution_count": 1,
   "metadata": {},
   "outputs": [],
   "source": [
    "import numpy as np\n",
    "import sklearn\n",
    "%matplotlib inline\n",
    "import matplotlib\n",
    "import pandas as pd\n",
    "import matplotlib.pyplot as plt\n",
    "\n",
    "import onlinecp.algos as algos\n",
    "import onlinecp.utils.feature_functions as feat\n",
    "import onlinecp.utils.gendata as gd\n",
    "import onlinecp.utils.evaluation as ev\n",
    "from onlinecp.utils.datasets import pw_linear, pw_constant\n",
    "from experiments import Experiment"
   ]
  },
  {
   "cell_type": "code",
   "execution_count": 2,
   "metadata": {},
   "outputs": [
    {
     "name": "stdout",
     "output_type": "stream",
     "text": [
      "GMM Dataset has 25000 data points and 15 features\n",
      "There are 9.0 change points\n"
     ]
    }
   ],
   "source": [
    "# GMM dataset, note nb_change=1 means no CPs will be in dataset, each CP is seperated by n points\n",
    "X2, truth = gd.stream_GMM(d=15, nb_change=10, n=2500)\n",
    "\n",
    "print(f'GMM Dataset has {X2.shape[0]} data points and {X2.shape[1]} features')\n",
    "print(f'There are {truth.sum()} change points')"
   ]
  },
  {
   "cell_type": "code",
   "execution_count": 3,
   "metadata": {},
   "outputs": [],
   "source": [
    "exp = Experiment(X2, truth, 10, 'ScanB')"
   ]
  },
  {
   "cell_type": "code",
   "execution_count": 4,
   "metadata": {},
   "outputs": [
    {
     "name": "stdout",
     "output_type": "stream",
     "text": [
      "Start algo  ScanB ... (can be long !)\n"
     ]
    }
   ],
   "source": [
    "exp.run_algo()"
   ]
  },
  {
   "cell_type": "code",
   "execution_count": 5,
   "metadata": {},
   "outputs": [
    {
     "name": "stdout",
     "output_type": "stream",
     "text": [
      "Omitting first 3 distributions\n",
      "Calculating performance with 30 points\n",
      "Evaluate performance 1 / 30\n",
      "Evaluate performance 2 / 30\n",
      "Evaluate performance 3 / 30\n",
      "Evaluate performance 4 / 30\n",
      "Evaluate performance 5 / 30\n",
      "Evaluate performance 6 / 30\n",
      "Evaluate performance 7 / 30\n",
      "Evaluate performance 8 / 30\n",
      "Evaluate performance 9 / 30\n",
      "Evaluate performance 10 / 30\n",
      "Evaluate performance 11 / 30\n",
      "Evaluate performance 12 / 30\n",
      "Evaluate performance 13 / 30\n",
      "Evaluate performance 14 / 30\n",
      "Evaluate performance 15 / 30\n",
      "Evaluate performance 16 / 30\n",
      "Evaluate performance 17 / 30\n",
      "Evaluate performance 18 / 30\n",
      "Evaluate performance 19 / 30\n",
      "Evaluate performance 20 / 30\n",
      "Evaluate performance 21 / 30\n",
      "Evaluate performance 22 / 30\n",
      "Evaluate performance 23 / 30\n",
      "Evaluate performance 24 / 30\n",
      "Evaluate performance 25 / 30\n",
      "Evaluate performance 26 / 30\n",
      "Evaluate performance 27 / 30\n",
      "Evaluate performance 28 / 30\n",
      "Evaluate performance 29 / 30\n",
      "Evaluate performance 30 / 30\n",
      "Evaluate performance 1 / 30\n",
      "Evaluate performance 2 / 30\n",
      "Evaluate performance 3 / 30\n",
      "Evaluate performance 4 / 30\n",
      "Evaluate performance 5 / 30\n",
      "Evaluate performance 6 / 30\n",
      "Evaluate performance 7 / 30\n",
      "Evaluate performance 8 / 30\n",
      "Evaluate performance 9 / 30\n",
      "Evaluate performance 10 / 30\n",
      "Evaluate performance 11 / 30\n",
      "Evaluate performance 12 / 30\n",
      "Evaluate performance 13 / 30\n",
      "Evaluate performance 14 / 30\n",
      "Evaluate performance 15 / 30\n",
      "Evaluate performance 16 / 30\n",
      "Evaluate performance 17 / 30\n",
      "Evaluate performance 18 / 30\n",
      "Evaluate performance 19 / 30\n",
      "Evaluate performance 20 / 30\n",
      "Evaluate performance 21 / 30\n",
      "Evaluate performance 22 / 30\n",
      "Evaluate performance 23 / 30\n",
      "Evaluate performance 24 / 30\n",
      "Evaluate performance 25 / 30\n",
      "Evaluate performance 26 / 30\n",
      "Evaluate performance 27 / 30\n",
      "Evaluate performance 28 / 30\n",
      "Evaluate performance 29 / 30\n",
      "Evaluate performance 30 / 30\n"
     ]
    },
    {
     "data": {
      "text/plain": [
       "{'EDD': array([241.,   0.,   0.,   0.,   0.,   0.,   0.,   0.,   0.,   0.,   0.,\n",
       "          0.,   0.,   0.,   0.,   0.,   0.,   0.,   0.,   0.,   0.,   0.,\n",
       "          0.,   0.,   0.,   0.,   0.,   0.,   0.,   0.]),\n",
       " 'FA': array([0., 0., 0., 0., 0., 0., 0., 0., 0., 0., 0., 0., 0., 0., 0., 0., 0.,\n",
       "        0., 0., 0., 0., 0., 0., 0., 0., 0., 0., 0., 0., 0.]),\n",
       " 'ND': array([ 88.88888889, 100.        , 100.        , 100.        ,\n",
       "        100.        , 100.        , 100.        , 100.        ,\n",
       "        100.        , 100.        , 100.        , 100.        ,\n",
       "        100.        , 100.        , 100.        , 100.        ,\n",
       "        100.        , 100.        , 100.        , 100.        ,\n",
       "        100.        , 100.        , 100.        , 100.        ,\n",
       "        100.        , 100.        , 100.        , 100.        ,\n",
       "        100.        , 100.        ]),\n",
       " 'EDDth': array([127.85714286, 127.85714286, 127.85714286, 127.85714286,\n",
       "        127.85714286, 127.85714286, 127.85714286, 127.85714286,\n",
       "        127.85714286, 127.85714286, 127.85714286, 127.85714286,\n",
       "        127.85714286, 127.85714286, 127.85714286, 127.85714286,\n",
       "        127.85714286, 127.85714286, 127.85714286, 127.85714286,\n",
       "        127.85714286, 127.85714286, 127.85714286, 127.85714286,\n",
       "        127.85714286, 127.85714286, 127.85714286, 127.85714286,\n",
       "        127.85714286, 127.85714286]),\n",
       " 'FAth': array([2.33333333, 2.33333333, 2.33333333, 2.33333333, 2.33333333,\n",
       "        2.33333333, 2.33333333, 2.33333333, 2.33333333, 2.33333333,\n",
       "        2.33333333, 2.33333333, 2.33333333, 2.33333333, 2.33333333,\n",
       "        2.33333333, 2.33333333, 2.33333333, 2.33333333, 2.33333333,\n",
       "        2.33333333, 2.33333333, 2.33333333, 2.33333333, 2.33333333,\n",
       "        2.33333333, 2.33333333, 2.33333333, 2.33333333, 2.33333333]),\n",
       " 'NDth': array([22.22222222, 22.22222222, 22.22222222, 22.22222222, 22.22222222,\n",
       "        22.22222222, 22.22222222, 22.22222222, 22.22222222, 22.22222222,\n",
       "        22.22222222, 22.22222222, 22.22222222, 22.22222222, 22.22222222,\n",
       "        22.22222222, 22.22222222, 22.22222222, 22.22222222, 22.22222222,\n",
       "        22.22222222, 22.22222222, 22.22222222, 22.22222222, 22.22222222,\n",
       "        22.22222222, 22.22222222, 22.22222222, 22.22222222, 22.22222222])}"
      ]
     },
     "execution_count": 5,
     "metadata": {},
     "output_type": "execute_result"
    }
   ],
   "source": [
    "exp.get_results()"
   ]
  },
  {
   "cell_type": "code",
   "execution_count": null,
   "metadata": {},
   "outputs": [],
   "source": [
    "exp.statistics"
   ]
  },
  {
   "cell_type": "code",
   "execution_count": null,
   "metadata": {},
   "outputs": [],
   "source": [
    "# compute performance metrics\n",
    "n=2500\n",
    "detection_stat = np.array([i[0] for i in exp.statistics])[int(3 * n):]  # padding\n",
    "online_th = np.array([i[1] for i in exp.statistics])[int(3 * n):]\n",
    "ground_truth = truth[int(3 * n):]"
   ]
  },
  {
   "cell_type": "code",
   "execution_count": null,
   "metadata": {},
   "outputs": [],
   "source": [
    "ground_truth.shape"
   ]
  },
  {
   "cell_type": "code",
   "execution_count": null,
   "metadata": {},
   "outputs": [],
   "source": [
    "detection_stat.shape"
   ]
  },
  {
   "cell_type": "code",
   "execution_count": null,
   "metadata": {},
   "outputs": [],
   "source": [
    "online_th.shape"
   ]
  },
  {
   "cell_type": "code",
   "execution_count": null,
   "metadata": {},
   "outputs": [],
   "source": [
    "EDD"
   ]
  },
  {
   "cell_type": "code",
   "execution_count": null,
   "metadata": {},
   "outputs": [],
   "source": [
    "EDDth"
   ]
  },
  {
   "cell_type": "code",
   "execution_count": null,
   "metadata": {},
   "outputs": [],
   "source": [
    "FA"
   ]
  },
  {
   "cell_type": "code",
   "execution_count": null,
   "metadata": {},
   "outputs": [],
   "source": [
    "FAth"
   ]
  },
  {
   "cell_type": "code",
   "execution_count": null,
   "metadata": {},
   "outputs": [],
   "source": [
    "ND"
   ]
  },
  {
   "cell_type": "code",
   "execution_count": null,
   "metadata": {},
   "outputs": [],
   "source": [
    "# display perf\n",
    "EDD, FA, ND = ev.compute_curves(ground_truth, detection_stat, num_points=30, start_coeff=1.05, end_coeff=1.2)\n",
    "EDDth, FAth, NDth = ev.compute_curves(ground_truth, detection_stat, num_points=30,\n",
    "                                  thres_values=online_th, start_coeff=1, end_coeff=1)"
   ]
  },
  {
   "cell_type": "code",
   "execution_count": null,
   "metadata": {},
   "outputs": [],
   "source": [
    "exp.plot_stat_time_series()"
   ]
  },
  {
   "cell_type": "code",
   "execution_count": null,
   "metadata": {},
   "outputs": [],
   "source": [
    "# Linear dataset\n",
    "XL, _, truth = pw_linear(n_samples=20000, n_features=15, n_bkps=10, noise_std=0.1)\n",
    "\n",
    "print(f'Linear Dataset has {XL.shape[0]} data points and {XL.shape[1]} features')\n",
    "print(f'There are {truth.sum()} change points')"
   ]
  },
  {
   "cell_type": "code",
   "execution_count": null,
   "metadata": {},
   "outputs": [],
   "source": [
    "# Wavy dataset\n",
    "XW, _, truth = pw_linear(n_samples=20000, n_bkps=1, noise_std=0.1)\n",
    "\n",
    "print(f'Wavy Dataset has {XW.shape[0]} data points and {XW.shape[1]} features')\n",
    "print(f'There are {truth.sum()} change points')"
   ]
  },
  {
   "cell_type": "code",
   "execution_count": null,
   "metadata": {},
   "outputs": [],
   "source": [
    "exp = Experiment(XW, 'ScanB')"
   ]
  },
  {
   "cell_type": "code",
   "execution_count": null,
   "metadata": {},
   "outputs": [],
   "source": [
    "exp.run_algo()"
   ]
  },
  {
   "cell_type": "code",
   "execution_count": null,
   "metadata": {},
   "outputs": [],
   "source": [
    "exp.plot_stat_time_series()"
   ]
  },
  {
   "cell_type": "code",
   "execution_count": null,
   "metadata": {},
   "outputs": [],
   "source": [
    "exp.set_ttfa(1000)"
   ]
  },
  {
   "cell_type": "code",
   "execution_count": null,
   "metadata": {},
   "outputs": [],
   "source": [
    "exp.statistics"
   ]
  },
  {
   "cell_type": "code",
   "execution_count": null,
   "metadata": {},
   "outputs": [],
   "source": [
    "XW"
   ]
  },
  {
   "cell_type": "code",
   "execution_count": null,
   "metadata": {},
   "outputs": [],
   "source": [
    "XW[:,1]"
   ]
  },
  {
   "cell_type": "code",
   "execution_count": null,
   "metadata": {},
   "outputs": [],
   "source": [
    "import plotly.graph_objects as go"
   ]
  },
  {
   "cell_type": "code",
   "execution_count": null,
   "metadata": {},
   "outputs": [],
   "source": [
    "fig = go.Figure()\n",
    "fig.add_trace(go.Scatter(x=[i for i in range(XW.shape[0])], y=XW[:,0],\n",
    "                         mode='lines',\n",
    "                         name=f'Signal'))\n",
    "# fig.add_trace(go.Scatter(x=[i for i in range(self.signal.shape[0])], y=[i[1] for i in self.statistics],\n",
    "#                          mode='lines',\n",
    "#                          name=f'{self.algo} adaptive threshold'))\n",
    "fig.update_layout(title=f'Signal over time',\n",
    "                  xaxis_title=\"Time\",\n",
    "                  yaxis_title=\"Statistic\",\n",
    "                  )\n",
    "fig.show()"
   ]
  },
  {
   "cell_type": "code",
   "execution_count": null,
   "metadata": {},
   "outputs": [],
   "source": []
  }
 ],
 "metadata": {
  "kernelspec": {
   "display_name": "Python 3",
   "language": "python",
   "name": "python3"
  },
  "language_info": {
   "codemirror_mode": {
    "name": "ipython",
    "version": 3
   },
   "file_extension": ".py",
   "mimetype": "text/x-python",
   "name": "python",
   "nbconvert_exporter": "python",
   "pygments_lexer": "ipython3",
   "version": "3.6.10"
  }
 },
 "nbformat": 4,
 "nbformat_minor": 4
}
