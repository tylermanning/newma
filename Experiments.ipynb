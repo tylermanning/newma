{
 "cells": [
  {
   "cell_type": "code",
   "execution_count": 4,
   "metadata": {},
   "outputs": [],
   "source": [
    "import numpy as np\n",
    "import sklearn\n",
    "%matplotlib inline\n",
    "import matplotlib\n",
    "import pandas as pd\n",
    "import matplotlib.pyplot as plt\n",
    "\n",
    "import onlinecp.algos as algos\n",
    "import onlinecp.utils.feature_functions as feat\n",
    "import onlinecp.utils.gendata as gd\n",
    "import onlinecp.utils.evaluation as ev\n",
    "from onlinecp.utils.datasets import pw_linear, pw_constant\n",
    "from experiments import Experiment"
   ]
  },
  {
   "cell_type": "code",
   "execution_count": 2,
   "metadata": {},
   "outputs": [
    {
     "name": "stdout",
     "output_type": "stream",
     "text": [
      "GMM Dataset has 25000 data points and 15 features\n",
      "There are 9.0 change points\n"
     ]
    }
   ],
   "source": [
    "# GMM dataset, note nb_change=1 means no CPs will be in dataset, each CP is seperated by n points\n",
    "X2, truth = gd.stream_GMM(d=15, nb_change=10, n=2500)\n",
    "\n",
    "print(f'GMM Dataset has {X2.shape[0]} data points and {X2.shape[1]} features')\n",
    "print(f'There are {truth.sum()} change points')"
   ]
  },
  {
   "cell_type": "code",
   "execution_count": 6,
   "metadata": {},
   "outputs": [
    {
     "data": {
      "text/plain": [
       "22500"
      ]
     },
     "execution_count": 6,
     "metadata": {},
     "output_type": "execute_result"
    }
   ],
   "source": []
  },
  {
   "cell_type": "code",
   "execution_count": null,
   "metadata": {
    "collapsed": true
   },
   "outputs": [],
   "source": [
    "# Linear dataset\n",
    "XL, _, truth = pw_linear(n_samples=20000, n_features=15, n_bkps=10, noise_std=0.1)\n",
    "\n",
    "print(f'Linear Dataset has {XL.shape[0]} data points and {XL.shape[1]} features')\n",
    "print(f'There are {truth.sum()} change points')"
   ]
  },
  {
   "cell_type": "code",
   "execution_count": null,
   "metadata": {
    "collapsed": true
   },
   "outputs": [],
   "source": [
    "# Wavy dataset\n",
    "XW, _, truth = pw_linear(n_samples=20000, n_bkps=1, noise_std=0.1)\n",
    "\n",
    "print(f'Wavy Dataset has {XW.shape[0]} data points and {XW.shape[1]} features')\n",
    "print(f'There are {truth.sum()} change points')"
   ]
  },
  {
   "cell_type": "code",
   "execution_count": null,
   "metadata": {
    "collapsed": true
   },
   "outputs": [],
   "source": [
    "exp = Experiment(XW, 'ScanB')"
   ]
  },
  {
   "cell_type": "code",
   "execution_count": null,
   "metadata": {
    "collapsed": true
   },
   "outputs": [],
   "source": [
    "exp.run_algo()"
   ]
  },
  {
   "cell_type": "code",
   "execution_count": null,
   "metadata": {
    "collapsed": true
   },
   "outputs": [],
   "source": [
    "exp.plot_stat_time_series()"
   ]
  },
  {
   "cell_type": "code",
   "execution_count": null,
   "metadata": {
    "collapsed": true
   },
   "outputs": [],
   "source": [
    "exp.set_ttfa(1000)"
   ]
  },
  {
   "cell_type": "code",
   "execution_count": null,
   "metadata": {
    "collapsed": true
   },
   "outputs": [],
   "source": [
    "exp.statistics"
   ]
  },
  {
   "cell_type": "code",
   "execution_count": null,
   "metadata": {
    "collapsed": true
   },
   "outputs": [],
   "source": [
    "XW"
   ]
  },
  {
   "cell_type": "code",
   "execution_count": null,
   "metadata": {
    "collapsed": true
   },
   "outputs": [],
   "source": [
    "XW[:,1]"
   ]
  },
  {
   "cell_type": "code",
   "execution_count": null,
   "metadata": {
    "collapsed": true
   },
   "outputs": [],
   "source": [
    "import plotly.graph_objects as go"
   ]
  },
  {
   "cell_type": "code",
   "execution_count": null,
   "metadata": {
    "collapsed": true
   },
   "outputs": [],
   "source": [
    "fig = go.Figure()\n",
    "fig.add_trace(go.Scatter(x=[i for i in range(XW.shape[0])], y=XW[:,0],\n",
    "                         mode='lines',\n",
    "                         name=f'Signal'))\n",
    "# fig.add_trace(go.Scatter(x=[i for i in range(self.signal.shape[0])], y=[i[1] for i in self.statistics],\n",
    "#                          mode='lines',\n",
    "#                          name=f'{self.algo} adaptive threshold'))\n",
    "fig.update_layout(title=f'Signal over time',\n",
    "                  xaxis_title=\"Time\",\n",
    "                  yaxis_title=\"Statistic\",\n",
    "                  )\n",
    "fig.show()"
   ]
  },
  {
   "cell_type": "code",
   "execution_count": null,
   "metadata": {
    "collapsed": true
   },
   "outputs": [],
   "source": []
  }
 ],
 "metadata": {
  "kernelspec": {
   "display_name": "Python [default]",
   "language": "python",
   "name": "python3"
  },
  "language_info": {
   "codemirror_mode": {
    "name": "ipython",
    "version": 3
   },
   "file_extension": ".py",
   "mimetype": "text/x-python",
   "name": "python",
   "nbconvert_exporter": "python",
   "pygments_lexer": "ipython3",
   "version": "3.6.2"
  }
 },
 "nbformat": 4,
 "nbformat_minor": 4
}
